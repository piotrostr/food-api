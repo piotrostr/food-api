{
 "cells": [
  {
   "cell_type": "code",
   "execution_count": 1,
   "id": "4c1ed27f",
   "metadata": {},
   "outputs": [],
   "source": [
    "import pandas as pd"
   ]
  },
  {
   "cell_type": "code",
   "execution_count": null,
   "id": "c61b07e0",
   "metadata": {},
   "outputs": [],
   "source": [
    "nutrition_df = pd.read_excel('https://query.data.world/s/3yg7x3cesk6lgbtepnezfdh2m36bui')"
   ]
  },
  {
   "cell_type": "code",
   "execution_count": 2,
   "id": "cedc71f8",
   "metadata": {},
   "outputs": [],
   "source": [
    "df = pd.read_csv('data/data.csv')"
   ]
  },
  {
   "cell_type": "code",
   "execution_count": 4,
   "id": "03692de9",
   "metadata": {},
   "outputs": [
    {
     "data": {
      "text/plain": [
       "0        ['1 (3½–4-lb.) whole chicken', '2¾ tsp. kosher...\n",
       "1        ['2 large egg whites', '1 pound new potatoes (...\n",
       "2        ['1 cup evaporated milk', '1 cup whole milk', ...\n",
       "3        ['1 (¾- to 1-pound) round Italian loaf, cut in...\n",
       "4        ['1 teaspoon dark brown sugar', '1 teaspoon ho...\n",
       "                               ...                        \n",
       "13496    ['1 cup all-purpose flour', '2/3 cup unsweeten...\n",
       "13497    ['1 preserved lemon', '1 1/2 pound butternut s...\n",
       "13498    ['Leftover katsuo bushi (dried bonito flakes) ...\n",
       "13499    ['1 stick (1/2 cup) plus 1 tablespoon unsalted...\n",
       "13500    ['12 medium to large fresh poblano chiles (2 1...\n",
       "Name: Ingredients, Length: 13501, dtype: object"
      ]
     },
     "execution_count": 4,
     "metadata": {},
     "output_type": "execute_result"
    }
   ],
   "source": [
    "df['Ingredients']"
   ]
  },
  {
   "cell_type": "code",
   "execution_count": 7,
   "id": "6465e920",
   "metadata": {},
   "outputs": [],
   "source": [
    "ingredients = df['Cleaned_Ingredients'].values.tolist()"
   ]
  },
  {
   "cell_type": "code",
   "execution_count": null,
   "id": "577da3a9",
   "metadata": {},
   "outputs": [],
   "source": [
    "if 'ml' not in s and 'g' not in s\n",
    "s.replace('lb.', 'lb')\n",
    "s.replace('lb', 'pound')\n",
    "s.replace('½', '.5')\n",
    "s.replace('¾', '.75')\n",
    "s.replace('cup', '128g')\n",
    "s.replace('tsp.', 'tablespoon')\n",
    "s.replace('tablespoon', '21.25g')\n",
    "s.replace('teaspoon', '5.7g')\n",
    "s.replace('pound', '453.6g')\n"
   ]
  },
  {
   "cell_type": "code",
   "execution_count": 9,
   "id": "eb53c94d",
   "metadata": {},
   "outputs": [],
   "source": [
    "from measures import Measure"
   ]
  },
  {
   "cell_type": "code",
   "execution_count": 13,
   "id": "f643eb1e",
   "metadata": {},
   "outputs": [],
   "source": [
    "# above might be helpful"
   ]
  },
  {
   "cell_type": "code",
   "execution_count": null,
   "id": "577f49f1",
   "metadata": {},
   "outputs": [],
   "source": []
  }
 ],
 "metadata": {
  "kernelspec": {
   "display_name": "Python 3 (ipykernel)",
   "language": "python",
   "name": "python3"
  },
  "language_info": {
   "codemirror_mode": {
    "name": "ipython",
    "version": 3
   },
   "file_extension": ".py",
   "mimetype": "text/x-python",
   "name": "python",
   "nbconvert_exporter": "python",
   "pygments_lexer": "ipython3",
   "version": "3.9.6"
  }
 },
 "nbformat": 4,
 "nbformat_minor": 5
}
