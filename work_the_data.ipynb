{
 "cells": [
  {
   "cell_type": "code",
   "execution_count": 1,
   "id": "4c1ed27f",
   "metadata": {},
   "outputs": [],
   "source": [
    "import pandas as pd"
   ]
  },
  {
   "cell_type": "code",
   "execution_count": 2,
   "id": "c61b07e0",
   "metadata": {
    "scrolled": false
   },
   "outputs": [],
   "source": [
    "nutrition_df = pd.read_excel('https://query.data.world/s/3yg7x3cesk6lgbtepnezfdh2m36bui')"
   ]
  },
  {
   "cell_type": "code",
   "execution_count": 3,
   "id": "cedc71f8",
   "metadata": {},
   "outputs": [],
   "source": [
    "df = pd.read_csv('app/data/data.csv')"
   ]
  },
  {
   "cell_type": "code",
   "execution_count": 4,
   "id": "03692de9",
   "metadata": {},
   "outputs": [
    {
     "data": {
      "text/plain": [
       "0        ['1 (3½–4-lb.) whole chicken', '2¾ tsp. kosher...\n",
       "1        ['2 large egg whites', '1 pound new potatoes (...\n",
       "2        ['1 cup evaporated milk', '1 cup whole milk', ...\n",
       "3        ['1 (¾- to 1-pound) round Italian loaf, cut in...\n",
       "4        ['1 teaspoon dark brown sugar', '1 teaspoon ho...\n",
       "                               ...                        \n",
       "13496    ['1 cup all-purpose flour', '2/3 cup unsweeten...\n",
       "13497    ['1 preserved lemon', '1 1/2 pound butternut s...\n",
       "13498    ['Leftover katsuo bushi (dried bonito flakes) ...\n",
       "13499    ['1 stick (1/2 cup) plus 1 tablespoon unsalted...\n",
       "13500    ['12 medium to large fresh poblano chiles (2 1...\n",
       "Name: Ingredients, Length: 13501, dtype: object"
      ]
     },
     "execution_count": 4,
     "metadata": {},
     "output_type": "execute_result"
    }
   ],
   "source": [
    "df['Ingredients']"
   ]
  },
  {
   "cell_type": "code",
   "execution_count": 5,
   "id": "6465e920",
   "metadata": {},
   "outputs": [],
   "source": [
    "ingredients = eval(df['Ingredients'].iloc[0])"
   ]
  },
  {
   "cell_type": "code",
   "execution_count": 6,
   "id": "1661f1b4",
   "metadata": {},
   "outputs": [
    {
     "data": {
      "text/plain": [
       "['1 (3½–4-lb.) whole chicken',\n",
       " '2¾ tsp. kosher salt, divided, plus more',\n",
       " '2 small acorn squash (about 3 lb. total)',\n",
       " '2 Tbsp. finely chopped sage',\n",
       " '1 Tbsp. finely chopped rosemary',\n",
       " '6 Tbsp. unsalted butter, melted, plus 3 Tbsp. room temperature',\n",
       " '¼ tsp. ground allspice',\n",
       " 'Pinch of crushed red pepper flakes',\n",
       " 'Freshly ground black pepper',\n",
       " '⅓ loaf good-quality sturdy white bread, torn into 1\" pieces (about 2½ cups)',\n",
       " '2 medium apples (such as Gala or Pink Lady; about 14 oz. total), cored, cut into 1\" pieces',\n",
       " '2 Tbsp. extra-virgin olive oil',\n",
       " '½ small red onion, thinly sliced',\n",
       " '3 Tbsp. apple cider vinegar',\n",
       " '1 Tbsp. white miso',\n",
       " '¼ cup all-purpose flour',\n",
       " '2 Tbsp. unsalted butter, room temperature',\n",
       " '¼ cup dry white wine',\n",
       " '2 cups unsalted chicken broth',\n",
       " '2 tsp. white miso',\n",
       " 'Kosher salt, freshly ground pepper']"
      ]
     },
     "execution_count": 6,
     "metadata": {},
     "output_type": "execute_result"
    }
   ],
   "source": [
    "ingredients"
   ]
  },
  {
   "cell_type": "code",
   "execution_count": 115,
   "id": "577da3a9",
   "metadata": {},
   "outputs": [],
   "source": [
    "def cleanup(ingredients: list[str]):\n",
    "    res = []\n",
    "    for s in ingredients:\n",
    "        s = s.lower()\n",
    "        if s.count('-'):\n",
    "            s = s[::-1].replace('-', ' ')[::-1]\n",
    "        s = s.replace('lb.', 'lb')\n",
    "        s = s.replace('gs', 'g')\n",
    "        s = s.replace('lb', 'pound')\n",
    "        s = s.replace('½', '.5')\n",
    "        s = s.replace('¾', '.75')\n",
    "        s = s.replace('¼', '.25')\n",
    "        s = s.replace('cup', '128g')\n",
    "        s = s.replace('tsp.', 'tablespoon')\n",
    "        s = s.replace('tbsp.', 'tablespoon')\n",
    "        s = s.replace('tablespoon', '21.25g')\n",
    "        s = s.replace('teaspoon', '5.7g')\n",
    "        s = s.replace('pound', '453.6g')\n",
    "        s = s.replace('oz.', '28g')\n",
    "        s = s.replace('⅓', '0.33')\n",
    "        s = s.replace('loaf', '400g')\n",
    "        s = s.replace('pinch', '0.35g')\n",
    "        res.append(s)\n",
    "    return res"
   ]
  },
  {
   "cell_type": "code",
   "execution_count": 117,
   "id": "074454ba",
   "metadata": {},
   "outputs": [],
   "source": [
    "def parse_grams(s):\n",
    "    words = s.split(' ')\n",
    "    if 'g' in words[0]:\n",
    "        try: \n",
    "            grams = float(words[0].replace('g', ''))\n",
    "            return grams\n",
    "        except:\n",
    "            pass\n",
    "    for i in range(len(words) - 1):\n",
    "        w0 = words[i]\n",
    "        w1 = words[i + 1]\n",
    "        if 'g' in w1:\n",
    "            try:\n",
    "                if '–' in w0:\n",
    "                    w00, w01 = w0.split('–')\n",
    "                    w00 = w00.replace('(', '')\n",
    "                    w01 = w01.replace(')', '')\n",
    "                    try:\n",
    "                        w00 = float(w00)\n",
    "                        w01 = float(w01)\n",
    "                        w0 = (w01 + w00) / 2\n",
    "                    except:\n",
    "                        pass\n",
    "                if type(w0) is str:\n",
    "                    w0 = w0.replace('(', '')\n",
    "                w1 = w1.replace(')', '')\n",
    "                w0 = float(w0)\n",
    "                w1 = w1.replace('g', '')\n",
    "                w1 = float(w1)\n",
    "                grams = w0 * w1\n",
    "                return round(grams, 2)\n",
    "            except: \n",
    "                continue"
   ]
  },
  {
   "cell_type": "code",
   "execution_count": 118,
   "id": "0a39eccd",
   "metadata": {},
   "outputs": [],
   "source": [
    "clean = cleanup(ingredients)"
   ]
  },
  {
   "cell_type": "markdown",
   "id": "3758e0ea",
   "metadata": {},
   "source": [
    "### 'gs' is weird"
   ]
  },
  {
   "cell_type": "code",
   "execution_count": 119,
   "id": "d9d4550f",
   "metadata": {},
   "outputs": [
    {
     "name": "stdout",
     "output_type": "stream",
     "text": [
      "1 (3.5–4 453.6g) whole chicken                                                                       1701.0\n",
      "2.75 21.25g kosher salt, divided, plus more                                                          58.44\n",
      "2 small acorn squash (about 3 453.6g total)                                                          1360.8\n",
      "2 21.25g finely chopped sage                                                                         42.5\n",
      "1 21.25g finely chopped rosemary                                                                     21.25\n",
      "6 21.25g unsalted butter, melted, plus 3 21.25g room temperature                                     127.5\n",
      ".25 21.25g ground allspice                                                                           5.31\n",
      "0.35g of crushed red pepper flakes                                                                   0.35\n",
      "freshly ground black pepper                                                                          None\n",
      "0.33 400g good quality sturdy white bread, torn into 1\" pieces (about 2.5 128gs)                     132.0\n",
      "2 medium apples (such as gala or pink lady; about 14 28g total), cored, cut into 1\" pieces           392.0\n",
      "2 21.25g extra virgin olive oil                                                                      42.5\n",
      ".5 small red onion, thinly sliced                                                                    None\n",
      "3 21.25g apple cider vinegar                                                                         63.75\n",
      "1 21.25g white miso                                                                                  21.25\n",
      ".25 128g all purpose flour                                                                           32.0\n",
      "2 21.25g unsalted butter, room temperature                                                           42.5\n",
      ".25 128g dry white wine                                                                              32.0\n",
      "2 128gs unsalted chicken broth                                                                       None\n",
      "2 21.25g white miso                                                                                  42.5\n",
      "kosher salt, freshly ground pepper                                                                   None\n"
     ]
    }
   ],
   "source": [
    "for s in clean:\n",
    "    print(f'{s:100} {parse_grams(s)}')"
   ]
  },
  {
   "cell_type": "markdown",
   "id": "ecc6812a",
   "metadata": {},
   "source": [
    "### to match words can use a special big list that only has \"food\" words in it"
   ]
  },
  {
   "cell_type": "markdown",
   "id": "36e97498",
   "metadata": {},
   "source": [
    "as a result shall obtain qty of grams and the product name to be matched in the nutrition df"
   ]
  }
 ],
 "metadata": {
  "kernelspec": {
   "display_name": "Python 3 (ipykernel)",
   "language": "python",
   "name": "python3"
  },
  "language_info": {
   "codemirror_mode": {
    "name": "ipython",
    "version": 3
   },
   "file_extension": ".py",
   "mimetype": "text/x-python",
   "name": "python",
   "nbconvert_exporter": "python",
   "pygments_lexer": "ipython3",
   "version": "3.9.6"
  }
 },
 "nbformat": 4,
 "nbformat_minor": 5
}
